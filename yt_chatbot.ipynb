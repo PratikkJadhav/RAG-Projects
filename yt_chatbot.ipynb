{
 "cells": [
  {
   "cell_type": "code",
   "execution_count": 2,
   "id": "0da738e1",
   "metadata": {},
   "outputs": [],
   "source": [
    "import sys\n",
    "sys.modules.pop('youtube_transcript_api', None)  # remove from loaded modules"
   ]
  },
  {
   "cell_type": "code",
   "execution_count": 1,
   "id": "bd94a4a9",
   "metadata": {},
   "outputs": [],
   "source": [
    "import os\n",
    "os.environ[\"MISTRAL_API_KEY\"] = \"HXtFUjChC6aqw4KsdPEXqOcVAsOydHf1\""
   ]
  },
  {
   "cell_type": "code",
   "execution_count": 1,
   "id": "e174fcff",
   "metadata": {},
   "outputs": [],
   "source": [
    "from youtube_transcript_api import YouTubeTranscriptApi , TranscriptsDisabled\n",
    "from langchain_text_splitters import RecursiveCharacterTextSplitter\n",
    "from langchain_mistralai import MistralAIEmbeddings , ChatMistralAI\n",
    "from langchain_community.vectorstores import FAISS\n",
    "from langchain_core.prompts import PromptTemplate"
   ]
  },
  {
   "cell_type": "code",
   "execution_count": null,
   "id": "48a0ce6a",
   "metadata": {},
   "outputs": [
    {
     "ename": "ParseError",
     "evalue": "no element found: line 1, column 0 (<string>)",
     "output_type": "error",
     "traceback": [
      "Traceback \u001b[36m(most recent call last)\u001b[39m:\n",
      "  File \u001b[92md:\\Pratik\\DL\\Langchain\\langchain\\Lib\\site-packages\\IPython\\core\\interactiveshell.py:3699\u001b[39m in \u001b[95mrun_code\u001b[39m\n    exec(code_obj, self.user_global_ns, self.user_ns)\n",
      "  Cell \u001b[92mIn[6]\u001b[39m\u001b[92m, line 4\u001b[39m\n    transcript_list = YouTubeTranscriptApi.get_transcript(video_id, languages=[\"en\"])\n",
      "  File \u001b[92md:\\Pratik\\DL\\Langchain\\langchain\\Lib\\site-packages\\youtube_transcript_api\\_api.py:137\u001b[39m in \u001b[95mget_transcript\u001b[39m\n    return cls.list_transcripts(video_id, proxies, cookies).find_transcript(languages).fetch(preserve_formatting=preserve_formatting)\n",
      "  File \u001b[92md:\\Pratik\\DL\\Langchain\\langchain\\Lib\\site-packages\\youtube_transcript_api\\_transcripts.py:292\u001b[39m in \u001b[95mfetch\u001b[39m\n    return _TranscriptParser(preserve_formatting=preserve_formatting).parse(\n",
      "  File \u001b[92md:\\Pratik\\DL\\Langchain\\langchain\\Lib\\site-packages\\youtube_transcript_api\\_transcripts.py:358\u001b[39m in \u001b[95mparse\u001b[39m\n    for xml_element in ElementTree.fromstring(plain_data)\n",
      "\u001b[36m  \u001b[39m\u001b[36mFile \u001b[39m\u001b[32m~\\AppData\\Local\\Programs\\Python\\Python311\\Lib\\xml\\etree\\ElementTree.py:1339\u001b[39m\u001b[36m in \u001b[39m\u001b[35mXML\u001b[39m\n\u001b[31m    \u001b[39m\u001b[31mreturn parser.close()\u001b[39m\n",
      "  \u001b[36mFile \u001b[39m\u001b[32m<string>\u001b[39m\n\u001b[31mParseError\u001b[39m\u001b[31m:\u001b[39m no element found: line 1, column 0\n"
     ]
    }
   ],
   "source": [
    "from youtube_transcript_api import YouTubeTranscriptApi\n",
    "\n",
    "video_id = \"tNZnLkRBYA8\"\n",
    "transcript_list = YouTubeTranscriptApi.get_transcript(video_id, languages=[\"en\"])\n",
    "\n",
    "transcript = \" \".join(chunk[\"text\"] for chunk in transcript_list)\n",
    "print(transcript[:500])"
   ]
  },
  {
   "cell_type": "code",
   "execution_count": null,
   "id": "209a48b3",
   "metadata": {},
   "outputs": [],
   "source": []
  }
 ],
 "metadata": {
  "kernelspec": {
   "display_name": "langchain",
   "language": "python",
   "name": "python3"
  },
  "language_info": {
   "codemirror_mode": {
    "name": "ipython",
    "version": 3
   },
   "file_extension": ".py",
   "mimetype": "text/x-python",
   "name": "python",
   "nbconvert_exporter": "python",
   "pygments_lexer": "ipython3",
   "version": "3.11.6"
  }
 },
 "nbformat": 4,
 "nbformat_minor": 5
}
